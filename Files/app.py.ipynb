{
 "cells": [
  {
   "cell_type": "code",
   "execution_count": null,
   "id": "972e278b",
   "metadata": {},
   "outputs": [
    {
     "name": "stdout",
     "output_type": "stream",
     "text": [
      " * Serving Flask app \"__main__\" (lazy loading)\n",
      " * Environment: production\n",
      "   WARNING: This is a development server. Do not use it in a production deployment.\n",
      "   Use a production WSGI server instead.\n",
      " * Debug mode: on\n"
     ]
    },
    {
     "name": "stderr",
     "output_type": "stream",
     "text": [
      " * Running on http://127.0.0.1:5000/ (Press CTRL+C to quit)\n",
      "127.0.0.1 - - [17/Dec/2021 19:26:06] \"\u001b[37mGET / HTTP/1.1\u001b[0m\" 200 -\n",
      "127.0.0.1 - - [17/Dec/2021 19:26:06] \"\u001b[33mGET /decisiontree.png HTTP/1.1\u001b[0m\" 404 -\n",
      "127.0.0.1 - - [17/Dec/2021 19:26:06] \"\u001b[33mGET /multinomialnaivebayes.png HTTP/1.1\u001b[0m\" 404 -\n",
      "127.0.0.1 - - [17/Dec/2021 19:26:06] \"\u001b[33mGET /randomforest.png HTTP/1.1\u001b[0m\" 404 -\n",
      "127.0.0.1 - - [17/Dec/2021 19:26:06] \"\u001b[33mGET /svm.png HTTP/1.1\u001b[0m\" 404 -\n",
      "127.0.0.1 - - [17/Dec/2021 19:26:06] \"\u001b[33mGET /result.png HTTP/1.1\u001b[0m\" 404 -\n",
      "A:\\Software\\Anaconda\\lib\\site-packages\\sklearn\\base.py:445: UserWarning: X does not have valid feature names, but DecisionTreeClassifier was fitted with feature names\n",
      "  warnings.warn(\n",
      "127.0.0.1 - - [17/Dec/2021 19:27:07] \"\u001b[37mPOST /predict HTTP/1.1\u001b[0m\" 200 -\n",
      "127.0.0.1 - - [17/Dec/2021 19:27:07] \"\u001b[33mGET /decisiontree.png HTTP/1.1\u001b[0m\" 404 -\n",
      "127.0.0.1 - - [17/Dec/2021 19:27:07] \"\u001b[33mGET /multinomialnaivebayes.png HTTP/1.1\u001b[0m\" 404 -\n",
      "127.0.0.1 - - [17/Dec/2021 19:27:07] \"\u001b[33mGET /randomforest.png HTTP/1.1\u001b[0m\" 404 -\n",
      "127.0.0.1 - - [17/Dec/2021 19:27:07] \"\u001b[33mGET /svm.png HTTP/1.1\u001b[0m\" 404 -\n",
      "127.0.0.1 - - [17/Dec/2021 19:27:07] \"\u001b[33mGET /result.png HTTP/1.1\u001b[0m\" 404 -\n",
      "A:\\Software\\Anaconda\\lib\\site-packages\\sklearn\\base.py:445: UserWarning: X does not have valid feature names, but DecisionTreeClassifier was fitted with feature names\n",
      "  warnings.warn(\n",
      "127.0.0.1 - - [17/Dec/2021 19:27:21] \"\u001b[37mPOST /predict HTTP/1.1\u001b[0m\" 200 -\n",
      "127.0.0.1 - - [17/Dec/2021 19:27:21] \"\u001b[33mGET /decisiontree.png HTTP/1.1\u001b[0m\" 404 -\n",
      "127.0.0.1 - - [17/Dec/2021 19:27:21] \"\u001b[33mGET /multinomialnaivebayes.png HTTP/1.1\u001b[0m\" 404 -\n",
      "127.0.0.1 - - [17/Dec/2021 19:27:21] \"\u001b[33mGET /randomforest.png HTTP/1.1\u001b[0m\" 404 -\n",
      "127.0.0.1 - - [17/Dec/2021 19:27:21] \"\u001b[33mGET /svm.png HTTP/1.1\u001b[0m\" 404 -\n",
      "127.0.0.1 - - [17/Dec/2021 19:27:21] \"\u001b[33mGET /result.png HTTP/1.1\u001b[0m\" 404 -\n",
      "A:\\Software\\Anaconda\\lib\\site-packages\\sklearn\\base.py:445: UserWarning: X does not have valid feature names, but DecisionTreeClassifier was fitted with feature names\n",
      "  warnings.warn(\n",
      "127.0.0.1 - - [17/Dec/2021 19:27:52] \"\u001b[37mPOST /predict HTTP/1.1\u001b[0m\" 200 -\n",
      "127.0.0.1 - - [17/Dec/2021 19:27:52] \"\u001b[33mGET /decisiontree.png HTTP/1.1\u001b[0m\" 404 -\n",
      "127.0.0.1 - - [17/Dec/2021 19:27:52] \"\u001b[33mGET /multinomialnaivebayes.png HTTP/1.1\u001b[0m\" 404 -\n",
      "127.0.0.1 - - [17/Dec/2021 19:27:52] \"\u001b[33mGET /randomforest.png HTTP/1.1\u001b[0m\" 404 -\n",
      "127.0.0.1 - - [17/Dec/2021 19:27:52] \"\u001b[33mGET /svm.png HTTP/1.1\u001b[0m\" 404 -\n",
      "127.0.0.1 - - [17/Dec/2021 19:27:52] \"\u001b[33mGET /result.png HTTP/1.1\u001b[0m\" 404 -\n"
     ]
    }
   ],
   "source": [
    "import numpy as np\n",
    "from flask import Flask, request, render_template\n",
    "import pickle\n",
    "\n",
    "app = Flask(__name__)\n",
    "model = pickle.load(open('model.pkl', 'rb'))\n",
    "\n",
    "\n",
    "@app.route('/')\n",
    "def home():\n",
    "    return render_template('index.html')\n",
    "\n",
    "\n",
    "@app.route('/predict', methods=['POST'])\n",
    "def predict():\n",
    "    # For rendering results on HTML GUI\n",
    "    int_features = [int(x) for x in request.form.values()]\n",
    "    final_features = [np.array(int_features)]\n",
    "    prediction = model.predict(final_features)\n",
    "\n",
    "    output = prediction[0]\n",
    "    if output == 1:\n",
    "        output = \"Bot\"\n",
    "    else:\n",
    "        output = \"Human\"\n",
    "\n",
    "    return render_template('index.html', prediction_text='Is it a bot, or a human?: {}'.format(output))\n",
    "\n",
    "\n",
    "\n",
    "if __name__ == \"__main__\":\n",
    "    app.run(debug=True,  use_reloader=False)\n"
   ]
  },
  {
   "cell_type": "code",
   "execution_count": null,
   "id": "773e3677",
   "metadata": {},
   "outputs": [],
   "source": [
    "\n"
   ]
  },
  {
   "cell_type": "code",
   "execution_count": null,
   "id": "dc391ba7",
   "metadata": {},
   "outputs": [],
   "source": []
  }
 ],
 "metadata": {
  "kernelspec": {
   "display_name": "Python 3",
   "language": "python",
   "name": "python3"
  },
  "language_info": {
   "codemirror_mode": {
    "name": "ipython",
    "version": 3
   },
   "file_extension": ".py",
   "mimetype": "text/x-python",
   "name": "python",
   "nbconvert_exporter": "python",
   "pygments_lexer": "ipython3",
   "version": "3.8.8"
  }
 },
 "nbformat": 4,
 "nbformat_minor": 5
}
