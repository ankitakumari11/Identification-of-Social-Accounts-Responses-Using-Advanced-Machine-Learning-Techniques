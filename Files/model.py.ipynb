{
 "cells": [
  {
   "cell_type": "code",
   "execution_count": 1,
   "id": "36a0c669",
   "metadata": {},
   "outputs": [
    {
     "name": "stdout",
     "output_type": "stream",
     "text": [
      "0.8891669646049338\n"
     ]
    }
   ],
   "source": [
    "import pickle\n",
    "import pandas as pd\n",
    "from sklearn import tree\n",
    "from sklearn.preprocessing import LabelEncoder\n",
    "\n",
    "training_data = pd.read_csv(\"training_data_2_csv_UTF.csv\")\n",
    "\n",
    "# feature engineering\n",
    "bag_of_words_bot = r'bot|b0t|cannabis|tweet me|mishear|follow me|updates every|gorilla|yes_ofc|forget' \\\n",
    "                   r'expos|kill|clit|bbb|butt|fuck|XXX|sex|truthe|fake|anony|free|virus|funky|RNA|kuck|jargon' \\\n",
    "                   r'nerd|swag|jack|bang|bonsai|chick|prison|paper|pokem|xx|freak|ffd|dunia|clone|genie|bbb' \\\n",
    "                   r'ffd|onlyman|emoji|joke|troll|droop|free|every|wow|cheese|yeah|bio|magic|wizard|face'\n",
    "\n",
    "training_data['screen_name_binary'] = training_data.screen_name.str.contains(bag_of_words_bot, case=False, na=False)\n",
    "training_data['name_binary'] = training_data.name.str.contains(bag_of_words_bot, case=False, na=False)\n",
    "training_data['description_binary'] = training_data.description.str.contains(bag_of_words_bot, case=False, na=False)\n",
    "training_data['status_binary'] = training_data.status.str.contains(bag_of_words_bot, case=False, na=False)\n",
    "\n",
    "# feature extraction\n",
    "training_data['listed_count_binary'] = (training_data.listed_count > 20000) == False\n",
    "features = ['screen_name_binary', 'name_binary', 'description_binary', 'status_binary', 'verified', 'followers_count',\n",
    "            'friends_count', 'statuses_count', 'listed_count_binary', 'bot']\n",
    "\n",
    "# training_data.to_csv(\"new_csv.csv\")\n",
    "\n",
    "# implementing classifiers\n",
    "inputs = training_data[features].iloc[:, :-1]\n",
    "target = training_data[features].iloc[:, -1]\n",
    "\n",
    "le_screen_name_binary = LabelEncoder()\n",
    "le_name_binary = LabelEncoder()\n",
    "le_description_binary = LabelEncoder()\n",
    "le_status_binary = LabelEncoder()\n",
    "le_verified = LabelEncoder()\n",
    "le_followers_count = LabelEncoder()\n",
    "le_friends_count = LabelEncoder()\n",
    "le_statuses_count = LabelEncoder()\n",
    "le_listed_count_binary = LabelEncoder()\n",
    "\n",
    "inputs['screen_name_binary_n'] = le_screen_name_binary.fit_transform(inputs['screen_name_binary'])\n",
    "inputs['name_binary_n'] = le_name_binary.fit_transform(inputs['name_binary'])\n",
    "inputs['description_binary_n'] = le_description_binary.fit_transform(inputs['description_binary'])\n",
    "inputs['status_binary_n'] = le_status_binary.fit_transform(inputs['status_binary'])\n",
    "inputs['verified_n'] = le_verified.fit_transform(inputs['verified'])\n",
    "inputs['followers_count_n'] = le_followers_count.fit_transform(inputs['followers_count'])\n",
    "inputs['friends_count_n'] = le_friends_count.fit_transform(inputs['friends_count'])\n",
    "inputs['statuses_count_n'] = le_statuses_count.fit_transform(inputs['statuses_count'])\n",
    "inputs['listed_count_binary_n'] = le_listed_count_binary.fit_transform(inputs['listed_count_binary'])\n",
    "\n",
    "inputs_n = inputs.drop(\n",
    "    ['screen_name_binary', 'name_binary', 'description_binary', 'status_binary', 'verified', 'followers_count',\n",
    "     'friends_count', 'statuses_count', 'listed_count_binary'], axis='columns')\n",
    "# print(inputs_n)\n",
    "# print(target)\n",
    "# inputs_n.to_csv(\"inputs_n.csv\")\n",
    "\n",
    "dt = tree.DecisionTreeClassifier(criterion='entropy', min_samples_leaf=50, min_samples_split=10)\n",
    "\n",
    "# X_train, X_test, y_train, y_test = train_test_split(X, y, test_size=0.3, random_state=101)\n",
    "\n",
    "dt.fit(inputs_n, target)\n",
    "\n",
    "print(dt.score(inputs_n, target))\n",
    "\n",
    "pickle.dump(dt, open('model.pkl', 'wb'))\n",
    "\n"
   ]
  },
  {
   "cell_type": "code",
   "execution_count": null,
   "id": "aa7418b6",
   "metadata": {},
   "outputs": [],
   "source": []
  }
 ],
 "metadata": {
  "kernelspec": {
   "display_name": "Python 3",
   "language": "python",
   "name": "python3"
  },
  "language_info": {
   "codemirror_mode": {
    "name": "ipython",
    "version": 3
   },
   "file_extension": ".py",
   "mimetype": "text/x-python",
   "name": "python",
   "nbconvert_exporter": "python",
   "pygments_lexer": "ipython3",
   "version": "3.8.8"
  }
 },
 "nbformat": 4,
 "nbformat_minor": 5
}
